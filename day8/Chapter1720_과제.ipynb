{
 "cells": [
  {
   "cell_type": "markdown",
   "metadata": {
    "id": "aLkxKxnFLowa"
   },
   "source": [
    "안녕하세요. 수강생 여러분~! Chapter17 ~ 20 수업은 잘 들으셨나요?\n",
    "\n",
    "Chapter17 ~ 20의 수업 내용을 바탕으로 아래 문제를 풀어주시면 됩니다.\n",
    "\n",
    "[**답변 입력 방법**]\n",
    "\n",
    "문제 아래에 있는 코드 입력창에 정답코드를 작성하신 후 ▷ 버튼을 클릭해 코드를 실행해보세요<br>"
   ]
  },
  {
   "cell_type": "markdown",
   "metadata": {
    "id": "pYJ1dSggLwcG"
   },
   "source": [
    "[문제1]\n",
    "\n",
    "print_even 리스트 내에 있는 값 중 짝수만 화면에 출력되도록 print_score 함수를 생성 후 결과값을 출력해주세요\n",
    "\n",
    "print_even ([1, 3, 2, 10, 12, 11, 15])"
   ]
  },
  {
   "cell_type": "code",
   "execution_count": 1,
   "metadata": {
    "id": "PTqEeebbLmCA",
    "ExecuteTime": {
     "end_time": "2024-07-03T08:11:44.177374Z",
     "start_time": "2024-07-03T08:11:44.174137Z"
    }
   },
   "outputs": [
    {
     "name": "stdout",
     "output_type": "stream",
     "text": [
      "2\n",
      "10\n",
      "12\n"
     ]
    }
   ],
   "source": [
    "def print_even(num_list: list[int]) -> None:\n",
    "    for num in num_list:\n",
    "        if not num % 2:\n",
    "            print(num)\n",
    "        \n",
    "\n",
    "num_list = [1, 3, 2, 10, 12, 11, 15]\n",
    "print_even(num_list=num_list)"
   ]
  },
  {
   "cell_type": "markdown",
   "metadata": {},
   "source": [
    "---"
   ]
  },
  {
   "cell_type": "markdown",
   "metadata": {
    "id": "ZkGserEsQS0L"
   },
   "source": [
    "[문제2]\n",
    "\n",
    "비어있는 오즈 (oz) 클래스를 \"정의\" 해보세요."
   ]
  },
  {
   "cell_type": "code",
   "execution_count": 2,
   "metadata": {
    "id": "dJbcWWlwL0iK",
    "ExecuteTime": {
     "end_time": "2024-07-03T08:11:44.180397Z",
     "start_time": "2024-07-03T08:11:44.178758Z"
    }
   },
   "outputs": [],
   "source": [
    "class Oz:\n",
    "    def __init__(self):\n",
    "        pass"
   ]
  },
  {
   "cell_type": "markdown",
   "metadata": {},
   "source": [
    "---"
   ]
  },
  {
   "cell_type": "markdown",
   "metadata": {
    "id": "Ofy86rZfL1Mg"
   },
   "source": [
    "[문제3]\n",
    "\n",
    "오즈(oz) 클래스의 인스턴스를 \"생성\" 하고 이를 coding 변수로 할당해보세요."
   ]
  },
  {
   "cell_type": "code",
   "execution_count": 3,
   "metadata": {
    "id": "5NhWiuULL2Xa",
    "ExecuteTime": {
     "end_time": "2024-07-03T08:11:44.182482Z",
     "start_time": "2024-07-03T08:11:44.181020Z"
    }
   },
   "outputs": [],
   "source": [
    "coding = Oz()"
   ]
  },
  {
   "cell_type": "markdown",
   "metadata": {},
   "source": [
    "---"
   ]
  },
  {
   "cell_type": "markdown",
   "metadata": {
    "id": "5T6EMx8EL26b"
   },
   "source": [
    "[문제4]\n",
    "\n",
    "오즈(oz) 클래스에 \"클래스 정복\"을 출력하는 기본 생성자를 추가해주세요"
   ]
  },
  {
   "cell_type": "code",
   "execution_count": 4,
   "metadata": {
    "id": "Zq35PXA0L3-m",
    "ExecuteTime": {
     "end_time": "2024-07-03T08:11:44.524481Z",
     "start_time": "2024-07-03T08:11:44.522176Z"
    }
   },
   "outputs": [
    {
     "name": "stdout",
     "output_type": "stream",
     "text": [
      "클래스 정복\n"
     ]
    }
   ],
   "source": [
    "class Oz:\n",
    "    def __init__(self):\n",
    "        print(\"클래스 정복\")\n",
    "        pass\n",
    "    \n",
    "coding = Oz()"
   ]
  },
  {
   "cell_type": "markdown",
   "metadata": {},
   "source": [
    "---"
   ]
  },
  {
   "cell_type": "markdown",
   "metadata": {
    "id": "htuycQWSL4l-"
   },
   "source": [
    "[문제5]\n",
    "\n",
    "오즈 (oz) 클래스에 (이름, 나이, 코딩레벨)을 받는 생성자를 추가해주세요\n",
    "\n",
    "coding = oz(\"김코\", 30, \"A\")\n"
   ]
  },
  {
   "cell_type": "code",
   "execution_count": 5,
   "metadata": {
    "id": "A7h3I8CWL5ox",
    "ExecuteTime": {
     "end_time": "2024-07-03T08:11:44.774902Z",
     "start_time": "2024-07-03T08:11:44.770887Z"
    }
   },
   "outputs": [
    {
     "name": "stdout",
     "output_type": "stream",
     "text": [
      "이름 : 김코\n",
      "나이 : 30\n",
      "코딩레벨 : A\n"
     ]
    }
   ],
   "source": [
    "class Oz:\n",
    "    def __init__(self, name: str, age: int, level: str):\n",
    "        self._name = name\n",
    "        self._age = age\n",
    "        self._level = level\n",
    "        \n",
    "    def __str__(self):\n",
    "        return f\"\"\"이름 : {self._name}\n",
    "나이 : {self._age}\n",
    "코딩레벨 : {self._level}\"\"\"\n",
    "    \n",
    "    \n",
    "    @property\n",
    "    def name(self):\n",
    "        return self._name\n",
    "    \n",
    "    @property\n",
    "    def age(self):\n",
    "        return self._age\n",
    "    \n",
    "    @property\n",
    "    def level(self):\n",
    "        return self._level\n",
    "    \n",
    "    \n",
    "coding = Oz(name=\"김코\", age=30, level=\"A\")\n",
    "print(coding)"
   ]
  },
  {
   "cell_type": "markdown",
   "metadata": {},
   "source": [
    "---"
   ]
  },
  {
   "cell_type": "markdown",
   "metadata": {
    "id": "ZGDLHI5xL6Bd"
   },
   "source": [
    "[문제6]\n",
    "\n",
    "5번 문제에서 생성한 인스턴스의 이름, 나이, 성별을 출력해주세요.\n",
    "인스턴스 변수에 접근하여 값을 출력하면 됩니다  : )\n",
    "\n",
    "출력 결과  \n",
    "이름 : 김코  \n",
    "나이 : 30  \n",
    "코딩레벨 : A  "
   ]
  },
  {
   "cell_type": "code",
   "execution_count": 6,
   "metadata": {
    "id": "qCrPejI_L8Wr",
    "ExecuteTime": {
     "end_time": "2024-07-03T08:11:45.213254Z",
     "start_time": "2024-07-03T08:11:45.211269Z"
    }
   },
   "outputs": [
    {
     "name": "stdout",
     "output_type": "stream",
     "text": [
      "이름 : 김코\n",
      "나이 : 30\n",
      "코딩레벨 : A\n"
     ]
    }
   ],
   "source": [
    "print(f\"이름 : {coding.name}\", f\"나이 : {coding.age}\", f\"코딩레벨 : {coding.level}\", sep=\"\\n\")"
   ]
  },
  {
   "cell_type": "markdown",
   "metadata": {},
   "source": [
    "---"
   ]
  },
  {
   "cell_type": "markdown",
   "metadata": {
    "id": "RmtPk-A1L8z4"
   },
   "source": [
    "[뮨제7]\n",
    "\n",
    "오즈 (oz) 클래스에서 이름, 나이, 성별을 출력하는 who() 메소드를 추가하고 who()메소드를 이용해 아래 출력 결과를 만들어주세요\n",
    "\n",
    "\n",
    "출력 결과 : 이름: 김코, 나이: 30, 코딩레벨: A"
   ]
  },
  {
   "cell_type": "code",
   "execution_count": 7,
   "metadata": {
    "id": "fvrvm87vL_HZ",
    "ExecuteTime": {
     "end_time": "2024-07-03T08:11:45.493130Z",
     "start_time": "2024-07-03T08:11:45.488925Z"
    }
   },
   "outputs": [
    {
     "name": "stdout",
     "output_type": "stream",
     "text": [
      "출력 결과: 이름: 김코, 나이: 30, 코딩레벨: A\n"
     ]
    }
   ],
   "source": [
    "class Oz:\n",
    "    def __init__(self, name: str, age: int, level: str):\n",
    "        self._name = name\n",
    "        self._age = age\n",
    "        self._level = level\n",
    "        \n",
    "    def __str__(self):\n",
    "        return f\"\"\"이름 : {self._name}\n",
    "나이 : {self._age}\n",
    "코딩레벨 : {self._level}\"\"\"\n",
    "    \n",
    "    \n",
    "    def who(self):\n",
    "        print(\"출력 결과: 이름: {}, 나이: {}, 코딩레벨: {}\".format(self._name, self._age, self._level))\n",
    "    \n",
    "    @property\n",
    "    def name(self):\n",
    "        return self._name\n",
    "    \n",
    "    @property\n",
    "    def age(self):\n",
    "        return self._age\n",
    "    \n",
    "    @property\n",
    "    def level(self):\n",
    "        return self._level\n",
    "    \n",
    "    \n",
    "coding = Oz(name=\"김코\", age=30, level=\"A\")\n",
    "coding.who()"
   ]
  },
  {
   "cell_type": "markdown",
   "metadata": {},
   "source": [
    "#### 리팩토링 과제\n",
    "\n",
    "Day4에서 만든 \"붕어빵 자동 판매 시스템\"은 절차적 코드로 구현되어있습니다.\n",
    "\n",
    "Day5에서 배운 함수, 클래스 개념을 적용시켜 객체지향적으로 리팩토링을 진행해주세요\n"
   ]
  },
  {
   "cell_type": "code",
   "execution_count": 8,
   "metadata": {
    "ExecuteTime": {
     "end_time": "2024-07-03T08:11:45.680308Z",
     "start_time": "2024-07-03T08:11:45.672191Z"
    }
   },
   "outputs": [],
   "source": [
    "import datetime\n",
    "from os.path import isfile\n",
    "\n",
    "# 리팩토링 과제 힌트\n",
    "# 구조는 아래와 같습니다.\n",
    "class BungeoppangShop:\n",
    "    def __init__(self):\n",
    "        self.__stock = dict()\n",
    "        self.__price = dict()\n",
    "        self.__sales = dict()\n",
    "        self.__names = list[str]()\n",
    "        self.__post_construct()\n",
    "\n",
    "    def __post_construct(self):\n",
    "        self.__names = [\"팥붕어빵\", \"슈크림붕어빵\", \"초코붕어빵\"]\n",
    "        count_list = [10, 8, 5]\n",
    "        price_list = [1000, 1200, 1500]\n",
    "        sales_list = [0, 0, 0]\n",
    "                \n",
    "        for name, count, price, sale in zip(self.__names, count_list, price_list, sales_list):\n",
    "            self.__stock[name] = count\n",
    "            self.__price[name] = price\n",
    "            self.__sales[name] = sale\n",
    "        \n",
    "    def check_stock(self, check_name=None):\n",
    "        print(\"현재 붕어빵 재고입니다.\")\n",
    "        \n",
    "        if not check_name:\n",
    "            for name, count in self.__stock.items():\n",
    "                print(\"{name}은 {count}개 보유중입니다.\".format(name=name, count=count))\n",
    "                \n",
    "        else:\n",
    "            count = self.__stock.get(check_name)\n",
    "            print(\"{name}은 {count}개 보유중입니다.\".format(name=check_name, count=count))\n",
    "\n",
    "    def process_order(self, bread_type: str, bread_count: int):\n",
    "        def check_count(bread_type: str, bread_count: int) -> bool:\n",
    "            count = self.__stock.get(bread_type)\n",
    "            \n",
    "            if bread_count > count:\n",
    "                print(f\"현재 보유중인 재고보다 주문량이 많습니다. | 재고 : {count}개\")\n",
    "                return False\n",
    "            \n",
    "            return True\n",
    "        \n",
    "        def reduce_stock(bread_type: str, bread_count: int):\n",
    "            self.__stock[bread_type] -= bread_count\n",
    "            print(f\"{bread_type} 개수가 {bread_count}개 감소되었습니다.\")\n",
    "            \n",
    "        def increase_sales(bread_type: str, bread_count: int):\n",
    "            self.__sales[bread_type] += bread_count\n",
    "            bread_price = self.__price[bread_type]\n",
    "            print(f\"{bread_type} 개수가 {bread_count}개 판매되어 {bread_count*bread_price}원의 수익이 발생했습니다.\")\n",
    "            \n",
    "        \n",
    "        if bread_type not in self.__names:\n",
    "            print(f\"{self.__names}중 하나를 입력해주세요\")\n",
    "            return\n",
    "        \n",
    "        if not check_count(bread_type, bread_count):\n",
    "            return\n",
    "        \n",
    "        reduce_stock(bread_type, bread_count)\n",
    "        increase_sales(bread_type, bread_count)        \n",
    "        self.check_stock(check_name=bread_type)\n",
    "                \n",
    "    def admin_mode(self, bread_type: str, additional_stock: int):\n",
    "        if bread_type not in self.__names:\n",
    "            print(f\"{self.__names}중 하나를 입력해주세요\")\n",
    "            return\n",
    "\n",
    "        self.__stock[bread_type] += additional_stock\n",
    "        print(f\"{bread_type}의 재고를 {additional_stock}개 추가하였습니다. 현재 재고 : {self.__stock[bread_type]}\")\n",
    "    \n",
    "    def calculate_total_sales(self):\n",
    "        total_sales = 0\n",
    "        today = datetime.date.today().strftime(\"%Y년 %m월 %d일\")         \n",
    "        message = \"\"\n",
    "\n",
    "        header = f\"[{today}] 전체 판매 수익입니다.\\n\"\n",
    "        liner = \"==========================================\\n\"\n",
    "        \n",
    "        message += header\n",
    "        message += liner\n",
    "        \n",
    "        for name in self.__names:\n",
    "            sale = self.__sales.get(name)\n",
    "            if not sale:\n",
    "                continue\n",
    "\n",
    "            price = self.__price.get(name)\n",
    "            sales = sale * price\n",
    "            body = f\"{name}이 {sale}개 판매되어 수익금 : {sales}입니다\\n\"\n",
    "            message += body\n",
    "            total_sales += sales\n",
    "\n",
    "        message += liner\n",
    "\n",
    "        footer = f\"전체 판매 수익금은 총 {total_sales}원 입니다.\"\n",
    "        message += footer\n",
    "        \n",
    "        print(message)\n",
    "        \n",
    "        self.save_data(message)\n",
    "        \n",
    "    def save_data(self, message: str):\n",
    "        file_name = \"붕어빵_판매데이터.txt\"\n",
    "        mode = \"w\"\n",
    "        if isfile(file_name):\n",
    "            mode = \"a\"\n",
    "            message = \"\\n\\n\" + message\n",
    "        \n",
    "        with open(file_name, mode) as f:\n",
    "            f.write(message)\n",
    "        \n",
    "        print(f\"판매 데이터 파일이 생성되었습니다. 파일명 : {file_name} \")"
   ]
  },
  {
   "cell_type": "markdown",
   "metadata": {},
   "source": [
    "과제_1: BungeoppangShop 클래스 만들기\n",
    "\n",
    "- __init__: 초기 재고, 가격, 판매량을 설정합니다.\n",
    "- check_stock: 현재 재고를 출력합니다.\n",
    "- process_order: 주문을 처리하고 재고를 업데이트합니다.\n",
    "- admin_mode: 관리자 모드에서 재고를 추가합니다.\n",
    "- calculate_total_sales: 총 매출을 계산하고 출력합니다."
   ]
  },
  {
   "cell_type": "code",
   "execution_count": 8,
   "metadata": {
    "ExecuteTime": {
     "end_time": "2024-07-03T08:11:45.900046Z",
     "start_time": "2024-07-03T08:11:45.898533Z"
    }
   },
   "outputs": [],
   "source": []
  },
  {
   "cell_type": "markdown",
   "metadata": {},
   "source": [
    "[과제 2: 초기화 메서드 __init__]\n",
    "\n",
    "목표: __init__ 메서드를 구현하여 붕어빵 가게의 초기 재고, 가격, 판매량을 설정합니다.\n",
    "\n",
    "설명: self.stock, self.prices, self.sales 딕셔너리를 초기화하세요.\n",
    "- stock \n",
    "    - \"팥붕어빵\": 10\n",
    "    - \"슈크림붕어빵\": 8\n",
    "    - \"초코붕어빵\": 5\n",
    "\n",
    "- prices\n",
    "    - \"팥붕어빵\": 1000\n",
    "    - \"슈크림붕어빵\": 1200\n",
    "    - \"초코붕어빵\": 1500\n",
    "\n",
    "- sales\n",
    "    - \"팥붕어빵\": 0,\n",
    "    - \"슈크림붕어빵\": 0,\n",
    "    - \"초코붕어빵\": 0"
   ]
  },
  {
   "cell_type": "code",
   "execution_count": 8,
   "metadata": {
    "ExecuteTime": {
     "end_time": "2024-07-03T08:11:46.147819Z",
     "start_time": "2024-07-03T08:11:46.146292Z"
    }
   },
   "outputs": [],
   "source": []
  },
  {
   "cell_type": "markdown",
   "metadata": {},
   "source": [
    "[과제 3: 재고 확인 메서드 check_stock]\n",
    "\n",
    "목표: check_stock 함수를 구현하여 현재 붕어빵 재고를 출력합니다.\n",
    "\n",
    "설명: self.stock 딕셔너리를 순회하며 각 붕어빵의 종류와 재고를 출력하세요.\n"
   ]
  },
  {
   "cell_type": "code",
   "execution_count": 9,
   "metadata": {
    "ExecuteTime": {
     "end_time": "2024-07-03T08:11:46.374582Z",
     "start_time": "2024-07-03T08:11:46.372468Z"
    }
   },
   "outputs": [
    {
     "name": "stdout",
     "output_type": "stream",
     "text": [
      "현재 붕어빵 재고입니다.\n",
      "팥붕어빵은 10개 보유중입니다.\n",
      "슈크림붕어빵은 8개 보유중입니다.\n",
      "초코붕어빵은 5개 보유중입니다.\n"
     ]
    }
   ],
   "source": [
    "bbong = BungeoppangShop()\n",
    "bbong.check_stock()"
   ]
  },
  {
   "cell_type": "markdown",
   "metadata": {},
   "source": [
    "[과제 4: 주문 처리 메서드 process_order]\n",
    "\n",
    "목표: process_order 함수를 구현하여 손님의 주문을 처리하고 재고를 업데이트합니다.\n",
    "\n",
    "설명: bread_type과 bread_count를 매개변수로 받아, 재고를 확인하고 충분한 경우 재고를 감소시키고 판매량을 증가시킵니다. 재고가 부족하거나 잘못된 붕어빵 종류인 경우 적절한 메시지를 출력하세요."
   ]
  },
  {
   "cell_type": "code",
   "execution_count": 10,
   "metadata": {
    "ExecuteTime": {
     "end_time": "2024-07-03T08:11:50.033869Z",
     "start_time": "2024-07-03T08:11:46.612480Z"
    }
   },
   "outputs": [
    {
     "name": "stdout",
     "output_type": "stream",
     "text": [
      "팥붕어빵 개수가 2개 감소되었습니다.\n",
      "팥붕어빵 개수가 2개 판매되어 2000원의 수익이 발생했습니다.\n",
      "현재 붕어빵 재고입니다.\n",
      "팥붕어빵은 8개 보유중입니다.\n"
     ]
    }
   ],
   "source": [
    "bread_type = input(\"구매하실 붕어빵을 입력해주세요 : \")\n",
    "bread_count = int(input(\"구매하실 붕어빵 개수를 '정수'로 입력해주세요 : \"))\n",
    "\n",
    "bbong.process_order(bread_type, bread_count)"
   ]
  },
  {
   "cell_type": "markdown",
   "metadata": {},
   "source": [
    "[과제 5: 관리자 모드 메서드 admin_mode]\n",
    "\n",
    "목표: admin_mode 메서드를 구현하여 관리자 모드에서 재고를 추가할 수 있도록 합니다.\n",
    "\n",
    "설명: bread_type과 additional_stock을 입력받아 재고를 추가합니다. 잘못된 입력 값이 들어온 경우 적절한 메시지를 출력하세요."
   ]
  },
  {
   "cell_type": "code",
   "execution_count": 11,
   "metadata": {
    "ExecuteTime": {
     "end_time": "2024-07-03T08:11:53.174927Z",
     "start_time": "2024-07-03T08:11:50.443332Z"
    }
   },
   "outputs": [
    {
     "name": "stdout",
     "output_type": "stream",
     "text": [
      "팥붕어빵의 재고를 2개 추가하였습니다. 현재 재고 : 10\n"
     ]
    }
   ],
   "source": [
    "bread_type = input(\"추가하실 붕어빵을 입력해주세요 : \")\n",
    "additional_stock = int(input(\"추가하실 붕어빵 개수를 '정수'로 입력해주세요 : \"))\n",
    "\n",
    "bbong.admin_mode(bread_type, additional_stock)"
   ]
  },
  {
   "cell_type": "markdown",
   "metadata": {},
   "source": [
    "\n",
    "[과제 6: 매출 계산 메서드 calculate_total_sales]\n",
    "\n",
    "목표: calculate_total_sales 메서드를 구현하여 총 매출을 계산하고 출력합니다.\n",
    "\n",
    "설명: self.sales와 self.prices를 사용하여 총 매출을 계산하고 출력하세요."
   ]
  },
  {
   "cell_type": "code",
   "execution_count": 12,
   "metadata": {
    "ExecuteTime": {
     "end_time": "2024-07-03T08:11:53.500044Z",
     "start_time": "2024-07-03T08:11:53.497332Z"
    }
   },
   "outputs": [
    {
     "name": "stdout",
     "output_type": "stream",
     "text": [
      "[2024년 07월 03일] 전체 판매 수익입니다.\n",
      "==========================================\n",
      "팥붕어빵이 2개 판매되어 수익금 : 2000입니다\n",
      "==========================================\n",
      "전체 판매 수익금은 총 2000원 입니다.\n",
      "판매 데이터 파일이 생성되었습니다. 파일명 : 붕어빵_판매데이터.txt \n"
     ]
    }
   ],
   "source": [
    "bbong.calculate_total_sales()"
   ]
  },
  {
   "cell_type": "markdown",
   "metadata": {},
   "source": [
    "[과제 8: 메인 함수 main]\n",
    "\n",
    "목표: main 함수를 작성하여 프로그램의 주요 로직을 실행합니다.\n",
    "\n",
    "설명:\n",
    "- BungeoppangShop 객체를 생성합니다.\n",
    "- 사용자에게 모드를 선택하도록 요청합니다.\n",
    "- \"주문\" 모드에서는 손님의 주문을 처리하고, \"관리자\" 모드에서는 재고를 추가할 수 있습니다.\n",
    "- 프로그램이 종료될 때 총 매출을 계산하고 데이터를 저장합니다.\n"
   ]
  },
  {
   "cell_type": "code",
   "execution_count": 13,
   "metadata": {
    "ExecuteTime": {
     "end_time": "2024-07-03T08:11:53.737810Z",
     "start_time": "2024-07-03T08:11:53.735063Z"
    }
   },
   "outputs": [],
   "source": [
    "def main():\n",
    "    bbong = BungeoppangShop()\n",
    "    \n",
    "    while True:\n",
    "        mode = input(\"모드를 선택해주세요 [주문, 관리, 종료] : \")\n",
    "        \n",
    "        if mode == \"주문\":\n",
    "            bread_type = input(\"구매하실 붕어빵을 입력해주세요 [팥붕어빵, 슈크림붕어빵, 초코붕어빵] : \")\n",
    "            bread_count = int(input(\"구매하실 붕어빵 개수를 '정수'로 입력해주세요 : \"))\n",
    "        \n",
    "            bbong.process_order(bread_type, bread_count)\n",
    "        elif mode == \"관리\":\n",
    "            bread_type = input(\"추가하실 붕어빵을 입력해주세요 [팥붕어빵, 슈크림붕어빵, 초코붕어빵] : \")\n",
    "            additional_stock = int(input(\"추가하실 붕어빵 개수를 '정수'로 입력해주세요 : \"))\n",
    "\n",
    "            bbong.admin_mode(bread_type, additional_stock)\n",
    "        elif mode == \"종료\":\n",
    "            print(\"프로그램을 마무리합니다.\")\n",
    "            break\n",
    "        \n",
    "    bbong.calculate_total_sales()"
   ]
  },
  {
   "cell_type": "code",
   "outputs": [
    {
     "name": "stdout",
     "output_type": "stream",
     "text": [
      "팥붕어빵 개수가 2개 감소되었습니다.\n",
      "팥붕어빵 개수가 2개 판매되어 2000원의 수익이 발생했습니다.\n",
      "현재 붕어빵 재고입니다.\n",
      "팥붕어빵은 8개 보유중입니다.\n",
      "슈크림붕어빵 개수가 3개 감소되었습니다.\n",
      "슈크림붕어빵 개수가 3개 판매되어 3600원의 수익이 발생했습니다.\n",
      "현재 붕어빵 재고입니다.\n",
      "슈크림붕어빵은 5개 보유중입니다.\n",
      "프로그램을 마무리합니다.\n",
      "[2024년 07월 03일] 전체 판매 수익입니다.\n",
      "==========================================\n",
      "팥붕어빵이 2개 판매되어 수익금 : 2000입니다\n",
      "슈크림붕어빵이 3개 판매되어 수익금 : 3600입니다\n",
      "==========================================\n",
      "전체 판매 수익금은 총 5600원 입니다.\n",
      "판매 데이터 파일이 생성되었습니다. 파일명 : 붕어빵_판매데이터.txt \n"
     ]
    }
   ],
   "source": [
    "if __name__ == \"__main__\":\n",
    "    main()\n"
   ],
   "metadata": {
    "collapsed": false,
    "ExecuteTime": {
     "end_time": "2024-07-03T08:12:05.658209Z",
     "start_time": "2024-07-03T08:11:53.856623Z"
    }
   },
   "execution_count": 14
  }
 ],
 "metadata": {
  "colab": {
   "authorship_tag": "ABX9TyMfxSNOybrh/E7+DQqfYMY3",
   "provenance": []
  },
  "kernelspec": {
   "name": "python3",
   "language": "python",
   "display_name": "Python 3 (ipykernel)"
  },
  "language_info": {
   "codemirror_mode": {
    "name": "ipython",
    "version": 3
   },
   "file_extension": ".py",
   "mimetype": "text/x-python",
   "name": "python",
   "nbconvert_exporter": "python",
   "pygments_lexer": "ipython3",
   "version": "3.11.7"
  }
 },
 "nbformat": 4,
 "nbformat_minor": 0
}
