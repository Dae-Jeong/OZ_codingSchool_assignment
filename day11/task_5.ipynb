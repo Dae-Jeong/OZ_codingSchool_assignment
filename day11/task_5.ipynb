{
 "cells": [
  {
   "cell_type": "markdown",
   "metadata": {},
   "source": [
    "[문제]\n",
    "\n",
    "'Account' 클래스를 작성하세요. \n",
    "\n",
    "이 클래스는 소유자(owner)와 잔액(balance)을 속성으로 가지며, 잔액은 프라이빗 변수로 선언합니다. \n",
    "\n",
    "'deposit'와 'withdraw' 두 개의 메소드를 통해 잔액을 조작할 수 있도록 하세요. \n",
    "\n",
    "이 때, 잔액은 음수가 될 수 없도록 체크해야 합니다. 'Account' 객체를 생성하고,<br>\n",
    "입금 및 출금 작업을 시뮬레이션한 후, 최종 잔액을 출력하세요."
   ]
  },
  {
   "cell_type": "code",
   "execution_count": 1,
   "metadata": {},
   "outputs": [
    {
     "name": "stdout",
     "output_type": "stream",
     "text": [
      "잔액은 음수일 수 없습니다.\n",
      "계좌의 잔고는 :8000원 입니다.\n"
     ]
    }
   ],
   "source": [
    "class Account:\n",
    "    def __init__(self, owner: int, balance: int) -> None:\n",
    "        self.owner = owner\n",
    "        self.balance = balance\n",
    "\n",
    "    def deposit(self, money):\n",
    "        self.balance += money\n",
    "\n",
    "    def withdraw(self, money):\n",
    "        # 일종의 스냅샷\n",
    "        before_balance = self.balance\n",
    "        self.balance -= money\n",
    "\n",
    "        if not self.__validate_balance():\n",
    "            # 일종의 롤백 기능\n",
    "            self.balance = before_balance\n",
    "\n",
    "    def __str__(self) -> str:\n",
    "        return f\"계좌의 잔고는 :{self.balance}원 입니다.\"\n",
    "\n",
    "    def __validate_balance(self):\n",
    "        if self.balance < 0:\n",
    "            print(\"잔액은 음수일 수 없습니다.\")\n",
    "            return False\n",
    "        return True\n",
    "\n",
    "account = Account(\"대정\", 10000)\n",
    "account.deposit(1000)   #잔고 11000\n",
    "account.withdraw(20000) #잔고 -9000 -> 11000\n",
    "account.withdraw(3000)  #잔고 8000\n",
    "\n",
    "print(account)"
   ]
  }
 ],
 "metadata": {
  "kernelspec": {
   "display_name": "Python 3",
   "language": "python",
   "name": "python3"
  },
  "language_info": {
   "codemirror_mode": {
    "name": "ipython",
    "version": 3
   },
   "file_extension": ".py",
   "mimetype": "text/x-python",
   "name": "python",
   "nbconvert_exporter": "python",
   "pygments_lexer": "ipython3",
   "version": "3.12.0"
  }
 },
 "nbformat": 4,
 "nbformat_minor": 2
}
