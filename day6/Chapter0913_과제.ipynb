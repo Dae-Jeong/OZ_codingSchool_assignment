{
 "cells": [
  {
   "cell_type": "markdown",
   "metadata": {
    "id": "fD4Qab2qYgOm"
   },
   "source": [
    "안녕하세요. 수강생 여러분~! Chapter09 ~ 13 수업은 잘 들으셨나요?\n",
    "\n",
    "Chapter09 ~ 13의 수업 내용을 바탕으로 아래 문제를 풀어주시면 됩니다.\n",
    "\n",
    "[**답변 입력 방법**]\n",
    "\n",
    "문제 아래에 있는 코드 입력창에 정답코드를 작성하신 후 ▷ 버튼을 클릭해 코드를 실행해보세요<br>"
   ]
  },
  {
   "cell_type": "markdown",
   "metadata": {},
   "source": [
    "---"
   ]
  },
  {
   "cell_type": "markdown",
   "metadata": {
    "id": "swqdcIl8Yn-c"
   },
   "source": [
    "[문제1]<br>\n",
    "\n",
    "movie_rank 리스트에는 아래와 같이 네 개의 영화 제목이 바인딩되어 있다. \"비밀\"을 \"나폴레옹\"과 \"괴물\" 사이에 추가해주세요\n",
    "\n",
    "\n",
    "\n",
    "```\n",
    "movie = ['서울의 봄', '나폴레옹', '괴물', '베트맨']\n",
    "```\n",
    "\n"
   ]
  },
  {
   "cell_type": "code",
   "execution_count": 4,
   "metadata": {
    "id": "vjUhNFdBYo2n",
    "ExecuteTime": {
     "end_time": "2024-07-01T07:53:34.846180Z",
     "start_time": "2024-07-01T07:53:34.843818Z"
    }
   },
   "outputs": [
    {
     "name": "stdout",
     "output_type": "stream",
     "text": [
      "['서울의 봄', '나폴레옹', '비밀', '괴물', '베트맨']\n"
     ]
    }
   ],
   "source": [
    "# list 중간에 어떤 요소를 끼워 넣을 떄에는 insert 메서드를 활용\n",
    "# 다른 방식으로 한다면, 조금 귀찮겠지만 \"비밀\"이 위치할 곳 \"나폴레옹\"까지 요소를 pop 하고, queue에 담은 뒤, 비밀부터 push를 하게되면 수행 가능\n",
    "# 큐에 담겨있을 모습 queue = ['비밀', '나폴레옹', '서울의 봄']\n",
    "\n",
    "\n",
    "movie = ['서울의 봄', '나폴레옹', '괴물', '베트맨']\n",
    "movie.insert(2, \"비밀\")\n",
    "\n",
    "print(movie)"
   ]
  },
  {
   "cell_type": "markdown",
   "metadata": {},
   "source": [
    "---"
   ]
  },
  {
   "cell_type": "markdown",
   "metadata": {
    "id": "KZBNuM5MYpZR"
   },
   "source": [
    "[문제2]<br>\n",
    "\n",
    "movie_rank 리스트에서 '베트맨'를 삭제해주세요\n",
    "\n",
    "```\n",
    "movie = ['서울의 봄', '나폴레옹', '비밀', '괴물', '베트맨']\n",
    "```\n",
    "\n"
   ]
  },
  {
   "cell_type": "code",
   "execution_count": 8,
   "metadata": {
    "id": "cPezrT7cYreh",
    "ExecuteTime": {
     "end_time": "2024-07-01T07:55:27.655635Z",
     "start_time": "2024-07-01T07:55:27.653166Z"
    }
   },
   "outputs": [
    {
     "name": "stdout",
     "output_type": "stream",
     "text": [
      "['서울의 봄', '나폴레옹', '비밀', '괴물']\n",
      "['서울의 봄', '나폴레옹', '비밀', '괴물']\n"
     ]
    }
   ],
   "source": [
    "# 리스트에서 항목을 제거하는 방법 remove, pop (pop은 정확히 말하면 꺼내는 것)\n",
    "\n",
    "movie = ['서울의 봄', '나폴레옹', '비밀', '괴물', '베트맨']\n",
    "movie.remove('베트맨')\n",
    "print(movie)\n",
    "\n",
    "movie = ['서울의 봄', '나폴레옹', '비밀', '괴물', '베트맨']\n",
    "movie.pop(-1)\n",
    "print(movie)"
   ]
  },
  {
   "cell_type": "markdown",
   "metadata": {},
   "source": [
    "---"
   ]
  },
  {
   "cell_type": "markdown",
   "metadata": {
    "id": "i8EJYPY0YsAe"
   },
   "source": [
    "[문제3]<br>\n",
    "\n",
    "[언어1]과 [언어2] 리스트가 있을 때 언어1과 언어2의 원소를 모두 갖고 있는 [언어모음]이라는 list를 만들어주세요\n",
    "\n",
    "```lang1 = [\"C\", \"C++\", \"JAVA\"]```<br>\n",
    "```lang2 = [\"Python\", \"Go\", \"C#\"]```  \n",
    "\n",
    "실행 예:\n",
    "언어들\n",
    "['C', 'C++', 'JAVA', 'Python', 'Go', 'C#']"
   ]
  },
  {
   "cell_type": "code",
   "execution_count": 11,
   "metadata": {
    "ExecuteTime": {
     "end_time": "2024-07-01T07:58:50.612429Z",
     "start_time": "2024-07-01T07:58:50.609979Z"
    }
   },
   "outputs": [
    {
     "name": "stdout",
     "output_type": "stream",
     "text": [
      "['C', 'C++', 'JAVA', 'Python', 'Go', 'C#']\n",
      "['C#', 'C', 'Python', 'C++', 'Go', 'JAVA']\n"
     ]
    }
   ],
   "source": [
    "# 리스트의 합집합을 요구하는 문제\n",
    "# 리스트끼리 더하는 방법\n",
    "# 대신, set을 활용할 경우 실행 예의 순서와 다를 수 있음\n",
    "\n",
    "lang1 = [\"C\", \"C++\", \"JAVA\"]\n",
    "lang2 = [\"Python\", \"Go\", \"C#\"]\n",
    "result = lang1 + lang2\n",
    "print(result)\n",
    "\n",
    "result = list(set().union(lang1, lang2))\n",
    "print(result)"
   ]
  },
  {
   "cell_type": "markdown",
   "metadata": {},
   "source": [
    "---"
   ]
  },
  {
   "cell_type": "markdown",
   "metadata": {
    "id": "5VFysaYRwT69"
   },
   "source": [
    "[문제4]<br>\n",
    "\n",
    "다음 리스트에서 최댓값과 최솟값을 출력해주세요.\n",
    "\n",
    "```\n",
    "nums = [1, 2, 3, 4, 5, 6, 7, 9, 10]\n",
    "```\n",
    "\n"
   ]
  },
  {
   "cell_type": "code",
   "execution_count": 13,
   "metadata": {
    "ExecuteTime": {
     "end_time": "2024-07-01T08:03:56.491466Z",
     "start_time": "2024-07-01T08:03:56.486157Z"
    }
   },
   "outputs": [
    {
     "name": "stdout",
     "output_type": "stream",
     "text": [
      "최대값 : 10 / 최솟값 : 1\n"
     ]
    }
   ],
   "source": [
    "def get_max_min(values: list[int]) -> (int, int):\n",
    "    if not len(values):\n",
    "        raise ValueError(\"원소가 1개 이상인 리스트를 입력해주세요\")\n",
    "    elif len(values) == 1:\n",
    "        return values[0], values[0]\n",
    "\n",
    "    return max(values), min(values)\n",
    "\n",
    "nums = [1, 2, 3, 4, 5, 6, 7, 9, 10]\n",
    "max_value, min_value = get_max_min(values=nums)\n",
    "print(\"최대값 : {0} / 최솟값 : {1}\".format(max_value, min_value))"
   ]
  },
  {
   "cell_type": "markdown",
   "metadata": {},
   "source": [
    "---"
   ]
  },
  {
   "cell_type": "markdown",
   "metadata": {
    "id": "5_IA50IQE2AM"
   },
   "source": [
    "[문제5]\n",
    "\n",
    "다음 리스트에 저장된 데이터의 개수를 화면에 구해주세요\n",
    "\n",
    "```cook = [\"피자\", \"김밥\", \"만두\", \"양념치킨\", \"족발\", \"피자\", \"김치만두\", \"쫄면\"]```"
   ]
  },
  {
   "cell_type": "code",
   "execution_count": 16,
   "metadata": {
    "id": "iRDvWnF8wTXa",
    "ExecuteTime": {
     "end_time": "2024-07-01T08:05:25.503362Z",
     "start_time": "2024-07-01T08:05:25.498835Z"
    }
   },
   "outputs": [
    {
     "name": "stdout",
     "output_type": "stream",
     "text": [
      "cook 리스트에 담긴 데이터의 개수는 : 8개\n"
     ]
    }
   ],
   "source": [
    "cook = [\"피자\", \"김밥\", \"만두\", \"양념치킨\", \"족발\", \"피자\", \"김치만두\", \"쫄면\"]\n",
    "\n",
    "print(f'cook 리스트에 담긴 데이터의 개수는 : {len(cook)}개')"
   ]
  },
  {
   "cell_type": "markdown",
   "metadata": {},
   "source": [
    "---"
   ]
  },
  {
   "cell_type": "markdown",
   "metadata": {
    "id": "7DVH0FOBE4pt"
   },
   "source": [
    "[문제6]\n",
    "\n",
    "다음 리스트의 평균을 출력해주세요\n",
    "\n",
    "```nums = [1, 2, 3, 4, 5]```"
   ]
  },
  {
   "cell_type": "code",
   "execution_count": 20,
   "metadata": {
    "id": "NXmaxplTE4QY",
    "ExecuteTime": {
     "end_time": "2024-07-01T08:07:10.194722Z",
     "start_time": "2024-07-01T08:07:10.188781Z"
    }
   },
   "outputs": [
    {
     "name": "stdout",
     "output_type": "stream",
     "text": [
      "nums 함수의 평균은 : 3.0 입니다.\n"
     ]
    }
   ],
   "source": [
    "nums = [1, 2, 3, 4, 5]\n",
    "\n",
    "def average(values: list[int]) -> float:\n",
    "    return sum(values) / len(nums)\n",
    "\n",
    "print(f'nums 함수의 평균은 : {average(nums)} 입니다.')"
   ]
  },
  {
   "cell_type": "markdown",
   "metadata": {},
   "source": [
    "---"
   ]
  },
  {
   "cell_type": "markdown",
   "metadata": {
    "id": "Cp7IpuJBFcq2"
   },
   "source": [
    "[문제7]\n",
    "\n",
    "price 변수에는 날짜와 종가 정보가 저장돼 있습니다.\n",
    "날짜 정보를 제외하고 가격 정보만을 출력해주세요\n",
    "\n",
    "```price = ['20180728', 100, 130, 140, 150, 160, 170]```\n",
    "\n",
    "출력:\n",
    "[100, 130, 140, 150, 160, 170]"
   ]
  },
  {
   "cell_type": "code",
   "execution_count": 21,
   "metadata": {
    "id": "BpMb0bHPFdKF",
    "ExecuteTime": {
     "end_time": "2024-07-01T08:10:19.120945Z",
     "start_time": "2024-07-01T08:10:19.116689Z"
    }
   },
   "outputs": [
    {
     "name": "stdout",
     "output_type": "stream",
     "text": [
      "[100, 130, 140, 150, 160, 170]\n"
     ]
    }
   ],
   "source": [
    "price = ['20180728', 100, 130, 140, 150, 160, 170]\n",
    "day_value = price.pop(0)\n",
    "\n",
    "print(price)"
   ]
  },
  {
   "cell_type": "markdown",
   "metadata": {},
   "source": [
    "---"
   ]
  },
  {
   "cell_type": "markdown",
   "metadata": {
    "id": "arxKtWk9Fy-9"
   },
   "source": [
    "[문제8]\n",
    "\n",
    "아래 코드 실행 시 오류가 발생한 사유를 설명해주세요\n",
    "\n",
    "```t = (1, 2, 3)```<br>\n",
    "```t[0] = 'a' ```<br>\n",
    "```Traceback (most recent call last):```  \n",
    "   ```File \"<pyshell#46>\", line 1, in <module>```  \n",
    "      ```t[0] = 'a'```   \n",
    "```TypeError: 'tuple' object does not support item assignment```"
   ]
  },
  {
   "cell_type": "code",
   "outputs": [
    {
     "name": "stdout",
     "output_type": "stream",
     "text": [
      "['a', 2, 3]\n"
     ]
    }
   ],
   "source": [
    "\"\"\"\n",
    "위 코드에서 오류가 발생한 이유 중 가장 큰 핵심은\n",
    "Error Message에서 작성되었듯 tuple 에서 요소를 변경하려는 시도를 했기 떄문입니다.\n",
    "tuple의 경우 내부 요소의 변경을 허용하지 않으며, 이를 수행하기 위해서는 list 타입으로 변환 후 수행하는 것을 추천합니다.  \n",
    "\"\"\"\n",
    "\n",
    "t = (1, 2, 3)\n",
    "list_t = list(t)\n",
    "list_t[0] = 'a'\n",
    "print(list_t)"
   ],
   "metadata": {
    "collapsed": false,
    "ExecuteTime": {
     "end_time": "2024-07-01T08:12:49.327402Z",
     "start_time": "2024-07-01T08:12:49.323324Z"
    }
   },
   "execution_count": 22
  },
  {
   "cell_type": "markdown",
   "metadata": {},
   "source": [
    "---"
   ]
  },
  {
   "cell_type": "markdown",
   "metadata": {
    "id": "1DwclZivGe72"
   },
   "source": [
    "[문제9]\n",
    "다음 딕셔너리를 사용하여 메로나 가격을 출력해주세요\n",
    "\n",
    "```ice = {'메로나': 1000,```<br>\n",
    "&emsp;&emsp;&emsp;&emsp;```'폴로포': 1200,```<br>\n",
    "&emsp;&emsp;&emsp;&emsp;```'빵빠레': 1800,```<br>\n",
    "&emsp;&emsp;&emsp;&emsp;```'죠스바': 1200,```<br>\n",
    "&emsp;&emsp;&emsp;&emsp;```'월드콘': 1500}```<br>\n",
    "\n",
    "실행 예:\n",
    "메로나 가격: 1000"
   ]
  },
  {
   "cell_type": "code",
   "execution_count": 23,
   "metadata": {
    "id": "jADTPFzOHcKk",
    "ExecuteTime": {
     "end_time": "2024-07-01T08:14:45.039560Z",
     "start_time": "2024-07-01T08:14:45.011201Z"
    }
   },
   "outputs": [
    {
     "name": "stdout",
     "output_type": "stream",
     "text": [
      "메로나의 가격은 : 1000원 입니다.\n",
      "메로나의 가격은 : 1000원 입니다.\n"
     ]
    }
   ],
   "source": [
    "ice = {\n",
    "    \"메로나\" : 1000,\n",
    "    \"폴로포\" : 1200,\n",
    "    \"빵빠레\" : 1800,\n",
    "    \"죠스바\" : 1200,\n",
    "    \"월드콘\" : 1500\n",
    "}\n",
    "\n",
    "merona = ice.get('메로나')\n",
    "merona2 = ice['메로나']\n",
    "\n",
    "print(f\"메로나의 가격은 : {merona}원 입니다.\")\n",
    "print(f\"메로나의 가격은 : {merona2}원 입니다.\")"
   ]
  },
  {
   "cell_type": "markdown",
   "metadata": {},
   "source": [
    "---"
   ]
  },
  {
   "cell_type": "markdown",
   "metadata": {
    "id": "mBs2AaqcJAXN"
   },
   "source": [
    "[문제10]\n",
    "\n",
    "다음 딕셔너리에서 메로나의 가격을 1300으로 수정해주세요\n",
    "\n",
    "```ice = {'메로나': 1000,```<br>\n",
    "&emsp;&emsp;&emsp;&emsp;```'폴로포': 1200,```<br>\n",
    "&emsp;&emsp;&emsp;&emsp;```'빵빠레': 1800,```<br>\n",
    "&emsp;&emsp;&emsp;&emsp;```'죠스바': 1200,```<br>\n",
    "&emsp;&emsp;&emsp;&emsp;```'월드콘': 1500}```<br>"
   ]
  },
  {
   "cell_type": "code",
   "execution_count": 24,
   "metadata": {
    "id": "C2RyUgoTJKsF",
    "ExecuteTime": {
     "end_time": "2024-07-01T08:15:24.255795Z",
     "start_time": "2024-07-01T08:15:24.250778Z"
    }
   },
   "outputs": [
    {
     "name": "stdout",
     "output_type": "stream",
     "text": [
      "{'메로나': 1300, '폴로포': 1200, '빵빠레': 1800, '죠스바': 1200, '월드콘': 1500}\n"
     ]
    }
   ],
   "source": [
    "ice = {\n",
    "    \"메로나\" : 1000,\n",
    "    \"폴로포\" : 1200,\n",
    "    \"빵빠레\" : 1800,\n",
    "    \"죠스바\" : 1200,\n",
    "    \"월드콘\" : 1500\n",
    "}\n",
    "\n",
    "merona_fixed_price = 1300\n",
    "ice['메로나'] = merona_fixed_price\n",
    "\n",
    "print(ice)"
   ]
  },
  {
   "cell_type": "markdown",
   "metadata": {},
   "source": [
    "---"
   ]
  },
  {
   "cell_type": "markdown",
   "metadata": {
    "id": "_ZdcVEtTJKS1"
   },
   "source": [
    "[문제11]\n",
    "\n",
    "아래 순서대로 주어진 수강생 이름과 등급을 하나의 딕셔너리로 만드는 코드를 작성해주세요\n",
    "\n",
    "\n",
    "이름 : 나이썬, 김자바, 김씨, 박씨샵  \n",
    "등급 :   B       B      A      C\n"
   ]
  },
  {
   "cell_type": "code",
   "execution_count": 27,
   "metadata": {
    "id": "7RyqlYwpJOp7",
    "ExecuteTime": {
     "end_time": "2024-07-01T08:17:25.564797Z",
     "start_time": "2024-07-01T08:17:25.560005Z"
    }
   },
   "outputs": [
    {
     "name": "stdout",
     "output_type": "stream",
     "text": [
      "{'나이썬': 'B', '김자바': 'B', '김씨': 'A', '박씨샵': 'C'}\n"
     ]
    }
   ],
   "source": [
    "name_list = ['나이썬', '김자바', '김씨', '박씨샵']\n",
    "grade_list = ['B', 'B', 'A', 'C']\n",
    "\n",
    "student_dict = dict()\n",
    "\n",
    "for name, grade in zip(name_list, grade_list):\n",
    "    student_dict[name] = grade\n",
    "    \n",
    "print(student_dict)"
   ]
  },
  {
   "cell_type": "markdown",
   "metadata": {},
   "source": [
    "---"
   ]
  },
  {
   "cell_type": "markdown",
   "metadata": {
    "id": "yzi6f2-YKsk4"
   },
   "source": [
    "[문제12]\n",
    "\n",
    "아래 ice 딕셔너리에 데이터를 추가 후 출력해주세요\n",
    "\n",
    "ice = {\"메로나\": [300, 20],  \n",
    "              \"비비빅\": [400, 3],  \n",
    "              \"죠스바\": [250, 100]}  \n",
    "\n",
    "\n",
    "추가해야하는 데이터 : 이름 : 보석바, 가격:650, 재고:10"
   ]
  },
  {
   "cell_type": "code",
   "execution_count": 28,
   "metadata": {
    "ExecuteTime": {
     "end_time": "2024-07-01T08:19:02.896073Z",
     "start_time": "2024-07-01T08:19:02.891121Z"
    }
   },
   "outputs": [
    {
     "name": "stdout",
     "output_type": "stream",
     "text": [
      "{'메로나': [300, 20], '비비빅': [400, 3], '죠스바': [250, 100], '보석바': [650, 10]}\n"
     ]
    }
   ],
   "source": [
    "ice = {\n",
    "    \"메로나\": [300, 20],  \n",
    "    \"비비빅\": [400, 3],  \n",
    "    \"죠스바\": [250, 100]\n",
    "}\n",
    "\n",
    "boseokba = {\"보석바\" : [650, 10]}\n",
    "ice.update(boseokba)\n",
    "print(ice)"
   ]
  },
  {
   "cell_type": "markdown",
   "metadata": {},
   "source": [
    "---"
   ]
  },
  {
   "cell_type": "markdown",
   "metadata": {
    "id": "RQJC80PBLWGt"
   },
   "source": [
    "[문제13]\n",
    "\n",
    "아래 딕셔너리에서 key만 출력해주세요  \n",
    "\n",
    "ice = {'메로나': 1000, '폴로포': 1200, '빵빠레': 1800, '죠스바': 1200, '월드콘': 1500}\n"
   ]
  },
  {
   "cell_type": "code",
   "execution_count": 30,
   "metadata": {
    "id": "m5m-a09iLVbO",
    "ExecuteTime": {
     "end_time": "2024-07-01T08:21:24.191702Z",
     "start_time": "2024-07-01T08:21:24.188350Z"
    }
   },
   "outputs": [
    {
     "name": "stdout",
     "output_type": "stream",
     "text": [
      "['메로나', '폴로포', '빵빠레', '죠스바', '월드콘']\n"
     ]
    }
   ],
   "source": [
    "ice = {\n",
    "    '메로나': 1000, \n",
    "    '폴로포': 1200, \n",
    "    '빵빠레': 1800, \n",
    "    '죠스바': 1200, \n",
    "    '월드콘': 1500\n",
    "}\n",
    "\n",
    "print(list(ice.keys()))"
   ]
  },
  {
   "cell_type": "markdown",
   "metadata": {},
   "source": [
    "### 프로젝트: 간단한 ATM 관리 시스템\n",
    "\n",
    "[문제 1: 잔액 확인]\n",
    "\n",
    "현재 잔액은 1000원입니다. 현재 잔액을 출력하세요."
   ]
  },
  {
   "cell_type": "code",
   "execution_count": null,
   "metadata": {},
   "outputs": [],
   "source": [
    "# 리팩토링 필요 : 입, 출금 작업을 수행하는 컨트롤러 추가\n",
    "\n",
    "\"\"\"\n",
    "class ATM:\n",
    "    def __init__(self, username: str) -> None:\n",
    "        self.balance = 0\n",
    "        self.username = username\n",
    "        self.transaction_records = list[Transaction]()\n",
    "        \n",
    "        self.__post_construct()\n",
    "        \n",
    "    def __post_construct(self) -> None:\n",
    "        self.balance = 1000\n",
    "\n",
    "    def __record_transaction(self, transaction_type: str, money: int) -> None:\n",
    "        transaction = Transaction(\n",
    "            transaction_type=transaction_type,\n",
    "            money=money,\n",
    "            balance=self.balance\n",
    "        )\n",
    "        self.transaction_records.append(transaction.to_tuple())\n",
    "                \n",
    "    def __validate_money_and_return_integer_money(self, transaction_type: str, input_value: int) -> tuple[bool, int]:    \n",
    "        def check_deposit_money() -> None:\n",
    "            if money < 0:\n",
    "                raise ValueError(\"음수 값은 입력할 수 없습니다.\")\n",
    "            \n",
    "        def check_withdraw_money() -> None:\n",
    "            if money < 0:\n",
    "                raise ValueError(\"음수 값은 입력할 수 없습니다.\")\n",
    "            elif money > self.balance:\n",
    "                raise ValueError(f\"잔고 이상의 금액은 출금할 수 없습니다. / 현재 잔고는 : {self.balance}원 입니다.\")\n",
    "\n",
    "        money = None\n",
    "        try:     money = int(input_value)\n",
    "        except:  raise ValueError(\"숫자가 아닌 값은 입력할 수 없습니다.\") \n",
    "        \n",
    "        if transaction_type == '입금':\n",
    "            check_deposit_money()\n",
    "        elif transaction_type == '출금':\n",
    "            check_withdraw_money()\n",
    "        else:\n",
    "            raise ValueError(\"입금 혹은 출금 둘중 한가지 값만 활용해주세요\")\n",
    "        \n",
    "        return True, money\n",
    "    \n",
    "    def deposit(self) -> None:\n",
    "        transaction_type=\"입금\"\n",
    "        input_value = input(\"입금하실 금액을 입력해주세요 : \")\n",
    "        \n",
    "        print(f\"{input_value}원 입력하셨습니다.\")\n",
    "        print(\"입력값의 유효성 검사를 실행합니다.\")\n",
    "                \n",
    "        _, money = self.__validate_money_and_return_integer_money(\n",
    "            transaction_type=transaction_type,\n",
    "            input_value=input_value\n",
    "        )   \n",
    "                            \n",
    "        self.balance += money\n",
    "        self.__record_transaction(\n",
    "            transaction_type=transaction_type, \n",
    "            money=money\n",
    "        )\n",
    "\n",
    "    def withdraw(self) -> None:\n",
    "        transaction_type=\"출금\"\n",
    "        input_value = input(\"출금하실 금액을 입력해주세요 : \")\n",
    "        \n",
    "        print(f\"{input_value}원 입력하셨습니다.\")\n",
    "        print(\"입력값의 유효성 검사를 실행합니다.\")\n",
    "\n",
    "        _, money = self.__validate_money_and_return_integer_money(\n",
    "            transaction_type=transaction_type,\n",
    "            input_value=input_value\n",
    "        )   \n",
    "\n",
    "        self.balance -= money\n",
    "        self.__record_transaction(\n",
    "            transaction_type=transaction_type,\n",
    "            money=money\n",
    "        )\n",
    "        \n",
    "    def print_balance(self):\n",
    "        print(f\"{self.username}님께서 보유하신 계좌의 현재 잔고는 {self.balance}원 입니다.\")\n",
    "        \n",
    "    def print_records(self):\n",
    "        print(\"{0}님의 영수증을 출력합니다.\".format(self.username))\n",
    "        print(\"======================================\")\n",
    "        for record in self.transaction_records:\n",
    "            print(record)\n",
    "        print(\"======================================\")\n",
    "        \n",
    "class Transaction:\n",
    "    def __init__(self, transaction_type: str, money: int, balance: int) -> None:\n",
    "        self.transaction_type = transaction_type\n",
    "        self.money = money\n",
    "        self.balance = balance\n",
    "    \n",
    "    def __str__(self) -> str:\n",
    "        return \"거래 기록 : [{0}, {1}, {2}]\".format(self.transaction_type, self.money, self.balance)\n",
    "    \n",
    "    def to_tuple(self) -> tuple[str, int, int]:\n",
    "        return self.transaction_type, self.money, self.balance\n",
    "\"\"\""
   ]
  },
  {
   "cell_type": "code",
   "outputs": [
    {
     "name": "stdout",
     "output_type": "stream",
     "text": [
      "BE_04_김대정님께서 보유하신 계좌의 현재 잔고는 1000원 입니다.\n"
     ]
    }
   ],
   "source": [
    "from ATM import ATM\n",
    "\n",
    "marin_atm = ATM(username=\"BE_04_김대정\")\n",
    "marin_atm.print_balance()"
   ],
   "metadata": {
    "collapsed": false,
    "ExecuteTime": {
     "end_time": "2024-07-02T04:53:32.844334Z",
     "start_time": "2024-07-02T04:53:32.840823Z"
    }
   },
   "execution_count": 30
  },
  {
   "cell_type": "markdown",
   "metadata": {},
   "source": [
    "[문제 2: 입금]\n",
    "\n",
    "가지고 있는 돈을 입금합니다.\n",
    "\n",
    "입금 금액을 입력받고, 잔액을 갱신한 후 새로운 잔액을 출력하세요. 입금 거래를 영수증 리스트에 기록하세요.\n",
    "\n",
    "- 입금 금액은 input()을 이용해 받습니다.\n",
    "- 영수증은 list()로 선언합니다.\n",
    "- 영수증에 들어가는 정보는 튜플 형태입니다.\n",
    "- 튜플에 담기는 정보는 (입금 or 출금, 입금 or 출금 금액, 현재 잔액)순 입니다.\n"
   ]
  },
  {
   "cell_type": "code",
   "execution_count": 31,
   "metadata": {
    "ExecuteTime": {
     "end_time": "2024-07-02T04:53:38.903262Z",
     "start_time": "2024-07-02T04:53:35.588935Z"
    }
   },
   "outputs": [
    {
     "name": "stdout",
     "output_type": "stream",
     "text": [
      "BE_04_김대정님께서 보유하신 계좌의 현재 잔고는 100001000원 입니다.\n",
      "BE_04_김대정님의 영수증을 출력합니다.\n",
      "======================================\n",
      "('입금', 100000000, 100001000)\n",
      "======================================\n"
     ]
    }
   ],
   "source": [
    "marin_atm.deposit()\n",
    "marin_atm.print_balance()\n",
    "marin_atm.print_records()"
   ]
  },
  {
   "cell_type": "markdown",
   "metadata": {},
   "source": [
    "[문제 3: 출금]\n",
    "\n",
    "사용자가 돈을 출금합니다. 출금 금액을 입력받고, 잔액을 갱신한 후 새로운 잔액을 출력하세요. 출금 거래를 영수증 리스트에 기록하세요. \n",
    "\n",
    "- 출금 금액은 input()을 이용해 받습니다.\n",
    "- 현재 잔액보다 출금 요청 금액이 많을 경우 현재 잔액 만큼만 출금되도록 합니다.\n",
    "- 영수증에 들어가는 정보는 튜플 형태입니다.\n",
    "- 튜플에 담기는 정보는 (입금 or 출금, 입금 or 출금 금액, 현재 잔액)순 입니다."
   ]
  },
  {
   "cell_type": "code",
   "execution_count": 32,
   "metadata": {
    "ExecuteTime": {
     "end_time": "2024-07-02T04:53:41.907533Z",
     "start_time": "2024-07-02T04:53:40.417490Z"
    }
   },
   "outputs": [
    {
     "name": "stdout",
     "output_type": "stream",
     "text": [
      "BE_04_김대정님께서 보유하신 계좌의 현재 잔고는 100000900원 입니다.\n",
      "BE_04_김대정님의 영수증을 출력합니다.\n",
      "======================================\n",
      "('입금', 100000000, 100001000)\n",
      "('출금', 100, 100000900)\n",
      "======================================\n"
     ]
    }
   ],
   "source": [
    "marin_atm.withdraw()\n",
    "marin_atm.print_balance()\n",
    "marin_atm.print_records()"
   ]
  },
  {
   "cell_type": "markdown",
   "metadata": {},
   "source": [
    "[문제 4: 모든 거래 내역 확인]\n",
    "\n",
    "모든 거래 내역(영수증)을 요청받았을 때 출력하세요.\n",
    "- 지금까지 영수증에 추가된 정보를 출력합니다.\n",
    "- 출력 형태는 자유입니다."
   ]
  },
  {
   "cell_type": "code",
   "execution_count": 33,
   "metadata": {
    "ExecuteTime": {
     "end_time": "2024-07-02T04:53:44.513030Z",
     "start_time": "2024-07-02T04:53:44.510828Z"
    }
   },
   "outputs": [
    {
     "name": "stdout",
     "output_type": "stream",
     "text": [
      "BE_04_김대정님의 영수증을 출력합니다.\n",
      "======================================\n",
      "('입금', 100000000, 100001000)\n",
      "('출금', 100, 100000900)\n",
      "======================================\n"
     ]
    }
   ],
   "source": [
    "marin_atm.print_records()"
   ]
  },
  {
   "cell_type": "code",
   "outputs": [],
   "source": [],
   "metadata": {
    "collapsed": false
   }
  }
 ],
 "metadata": {
  "colab": {
   "authorship_tag": "ABX9TyOA/CeX7CUdbTKFxV0fsocV",
   "provenance": []
  },
  "kernelspec": {
   "name": "python3",
   "language": "python",
   "display_name": "Python 3 (ipykernel)"
  },
  "language_info": {
   "name": "python"
  }
 },
 "nbformat": 4,
 "nbformat_minor": 0
}
