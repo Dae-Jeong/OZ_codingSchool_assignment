{
 "cells": [
  {
   "cell_type": "markdown",
   "metadata": {},
   "source": [
    "두 문자열을 받아서 긴 문자열을 반환하는 함수 longer_string을 작성하세요. 만약 두 문자열의 길이가 같다면, 첫 번째 문자열을 반환하세요."
   ]
  },
  {
   "cell_type": "markdown",
   "metadata": {},
   "source": []
  },
  {
   "cell_type": "code",
   "execution_count": 1,
   "metadata": {},
   "outputs": [
    {
     "name": "stdout",
     "output_type": "stream",
     "text": [
      "fdskjhgfsdahjfsdehgfdsj\n",
      "fdskljhfdsk.jfhbgkjsdgsaldk\n",
      "fdjk,hgsfdkjhgeralghjres\n"
     ]
    }
   ],
   "source": [
    "def longer_string(string1: str, string2: str) -> str:\n",
    "    string1_len, string2_len = len(string1), len(string2)\n",
    "\n",
    "    if string1_len >= string2_len:\n",
    "        return string1\n",
    "    \n",
    "    return string2\n",
    "\n",
    "case_a_string1, case_a_string2 = 'fdskjhgfsdahjfsdehgfdsj', 'fdskhjfgdshfs'\n",
    "case_b_string1, case_b_string2 = 'fdskjfdksj', 'fdskljhfdsk.jfhbgkjsdgsaldk'\n",
    "case_c_string1, case_c_string2 = 'fdjk,hgsfdkjhgeralghjres', 'fdjk,hgsfdkjhgeralghjres'\n",
    "\n",
    "print(longer_string(string1=case_a_string1, string2=case_a_string2))\n",
    "print(longer_string(string1=case_b_string1, string2=case_b_string2))\n",
    "print(longer_string(string1=case_c_string1, string2=case_c_string2))"
   ]
  }
 ],
 "metadata": {
  "kernelspec": {
   "display_name": "Python 3",
   "language": "python",
   "name": "python3"
  },
  "language_info": {
   "codemirror_mode": {
    "name": "ipython",
    "version": 3
   },
   "file_extension": ".py",
   "mimetype": "text/x-python",
   "name": "python",
   "nbconvert_exporter": "python",
   "pygments_lexer": "ipython3",
   "version": "3.12.4"
  }
 },
 "nbformat": 4,
 "nbformat_minor": 2
}
